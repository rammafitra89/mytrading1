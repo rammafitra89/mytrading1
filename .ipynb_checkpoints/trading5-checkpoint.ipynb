{
 "cells": [
  {
   "cell_type": "code",
   "execution_count": 178,
   "metadata": {},
   "outputs": [],
   "source": [
    "import matplotlib.pyplot as plt\n",
    "import matplotlib.dates as mdates\n",
    "import pandas as pd\n",
    "import pandas_datareader\n",
    "import datetime as dt\n",
    "from sklearn.preprocessing import StandardScaler\n",
    "from sklearn.model_selection import GridSearchCV\n",
    "from sklearn.svm import SVR"
   ]
  },
  {
   "cell_type": "code",
   "execution_count": 181,
   "metadata": {},
   "outputs": [
    {
     "data": {
      "text/html": [
       "<div>\n",
       "<style scoped>\n",
       "    .dataframe tbody tr th:only-of-type {\n",
       "        vertical-align: middle;\n",
       "    }\n",
       "\n",
       "    .dataframe tbody tr th {\n",
       "        vertical-align: top;\n",
       "    }\n",
       "\n",
       "    .dataframe thead th {\n",
       "        text-align: right;\n",
       "    }\n",
       "</style>\n",
       "<table border=\"1\" class=\"dataframe\">\n",
       "  <thead>\n",
       "    <tr style=\"text-align: right;\">\n",
       "      <th></th>\n",
       "      <th>Date</th>\n",
       "      <th>High</th>\n",
       "      <th>Low</th>\n",
       "      <th>Open</th>\n",
       "      <th>Close</th>\n",
       "      <th>Volume</th>\n",
       "      <th>Adj Close</th>\n",
       "    </tr>\n",
       "  </thead>\n",
       "  <tbody>\n",
       "    <tr>\n",
       "      <td>0</td>\n",
       "      <td>2014-08-20</td>\n",
       "      <td>199.160004</td>\n",
       "      <td>198.080002</td>\n",
       "      <td>198.119995</td>\n",
       "      <td>198.919998</td>\n",
       "      <td>72763000.0</td>\n",
       "      <td>178.436493</td>\n",
       "    </tr>\n",
       "    <tr>\n",
       "      <td>1</td>\n",
       "      <td>2014-08-21</td>\n",
       "      <td>199.759995</td>\n",
       "      <td>198.929993</td>\n",
       "      <td>199.089996</td>\n",
       "      <td>199.500000</td>\n",
       "      <td>67791000.0</td>\n",
       "      <td>178.956802</td>\n",
       "    </tr>\n",
       "    <tr>\n",
       "      <td>2</td>\n",
       "      <td>2014-08-22</td>\n",
       "      <td>199.690002</td>\n",
       "      <td>198.740005</td>\n",
       "      <td>199.339996</td>\n",
       "      <td>199.190002</td>\n",
       "      <td>76107000.0</td>\n",
       "      <td>178.678726</td>\n",
       "    </tr>\n",
       "    <tr>\n",
       "      <td>3</td>\n",
       "      <td>2014-08-25</td>\n",
       "      <td>200.589996</td>\n",
       "      <td>199.149994</td>\n",
       "      <td>200.139999</td>\n",
       "      <td>200.199997</td>\n",
       "      <td>63855000.0</td>\n",
       "      <td>179.584702</td>\n",
       "    </tr>\n",
       "    <tr>\n",
       "      <td>4</td>\n",
       "      <td>2014-08-26</td>\n",
       "      <td>200.820007</td>\n",
       "      <td>200.279999</td>\n",
       "      <td>200.330002</td>\n",
       "      <td>200.330002</td>\n",
       "      <td>47298000.0</td>\n",
       "      <td>179.701324</td>\n",
       "    </tr>\n",
       "    <tr>\n",
       "      <td>...</td>\n",
       "      <td>...</td>\n",
       "      <td>...</td>\n",
       "      <td>...</td>\n",
       "      <td>...</td>\n",
       "      <td>...</td>\n",
       "      <td>...</td>\n",
       "      <td>...</td>\n",
       "    </tr>\n",
       "    <tr>\n",
       "      <td>1348</td>\n",
       "      <td>2019-12-27</td>\n",
       "      <td>323.799988</td>\n",
       "      <td>322.279999</td>\n",
       "      <td>323.739990</td>\n",
       "      <td>322.859985</td>\n",
       "      <td>42528800.0</td>\n",
       "      <td>322.859985</td>\n",
       "    </tr>\n",
       "    <tr>\n",
       "      <td>1349</td>\n",
       "      <td>2019-12-30</td>\n",
       "      <td>323.100006</td>\n",
       "      <td>320.549988</td>\n",
       "      <td>322.950012</td>\n",
       "      <td>321.079987</td>\n",
       "      <td>49729100.0</td>\n",
       "      <td>321.079987</td>\n",
       "    </tr>\n",
       "    <tr>\n",
       "      <td>1350</td>\n",
       "      <td>2019-12-31</td>\n",
       "      <td>322.130005</td>\n",
       "      <td>320.149994</td>\n",
       "      <td>320.529999</td>\n",
       "      <td>321.859985</td>\n",
       "      <td>57077300.0</td>\n",
       "      <td>321.859985</td>\n",
       "    </tr>\n",
       "    <tr>\n",
       "      <td>1351</td>\n",
       "      <td>2020-01-02</td>\n",
       "      <td>324.890015</td>\n",
       "      <td>322.529999</td>\n",
       "      <td>323.540009</td>\n",
       "      <td>324.869995</td>\n",
       "      <td>59151200.0</td>\n",
       "      <td>324.869995</td>\n",
       "    </tr>\n",
       "    <tr>\n",
       "      <td>1352</td>\n",
       "      <td>2020-01-03</td>\n",
       "      <td>323.640015</td>\n",
       "      <td>321.100006</td>\n",
       "      <td>321.160004</td>\n",
       "      <td>322.410004</td>\n",
       "      <td>77709700.0</td>\n",
       "      <td>322.410004</td>\n",
       "    </tr>\n",
       "  </tbody>\n",
       "</table>\n",
       "<p>1353 rows × 7 columns</p>\n",
       "</div>"
      ],
      "text/plain": [
       "           Date        High         Low        Open       Close      Volume  \\\n",
       "0    2014-08-20  199.160004  198.080002  198.119995  198.919998  72763000.0   \n",
       "1    2014-08-21  199.759995  198.929993  199.089996  199.500000  67791000.0   \n",
       "2    2014-08-22  199.690002  198.740005  199.339996  199.190002  76107000.0   \n",
       "3    2014-08-25  200.589996  199.149994  200.139999  200.199997  63855000.0   \n",
       "4    2014-08-26  200.820007  200.279999  200.330002  200.330002  47298000.0   \n",
       "...         ...         ...         ...         ...         ...         ...   \n",
       "1348 2019-12-27  323.799988  322.279999  323.739990  322.859985  42528800.0   \n",
       "1349 2019-12-30  323.100006  320.549988  322.950012  321.079987  49729100.0   \n",
       "1350 2019-12-31  322.130005  320.149994  320.529999  321.859985  57077300.0   \n",
       "1351 2020-01-02  324.890015  322.529999  323.540009  324.869995  59151200.0   \n",
       "1352 2020-01-03  323.640015  321.100006  321.160004  322.410004  77709700.0   \n",
       "\n",
       "       Adj Close  \n",
       "0     178.436493  \n",
       "1     178.956802  \n",
       "2     178.678726  \n",
       "3     179.584702  \n",
       "4     179.701324  \n",
       "...          ...  \n",
       "1348  322.859985  \n",
       "1349  321.079987  \n",
       "1350  321.859985  \n",
       "1351  324.869995  \n",
       "1352  322.410004  \n",
       "\n",
       "[1353 rows x 7 columns]"
      ]
     },
     "execution_count": 181,
     "metadata": {},
     "output_type": "execute_result"
    }
   ],
   "source": [
    "def generate_data(index_saham,start,end):\n",
    "    data_all = pandas_datareader.data.DataReader(index_saham,'yahoo',start,end)\n",
    "    data_all.reset_index(inplace=True)\n",
    "    x_all = pd.DataFrame(data_all.Date.astype(str).str.split('-').tolist(),columns=\"year month date\".split())\n",
    "    y_all = data_all.Close\n",
    "    return x_all, y_all, data_all\n",
    "start_date = dt.datetime(2014, 8, 21)\n",
    "end_date = dt.datetime.now()\n",
    "x_all, y_all, data_all = generate_data('SPY', start_date, end_date)\n",
    "data_all"
   ]
  },
  {
   "cell_type": "code",
   "execution_count": 182,
   "metadata": {},
   "outputs": [],
   "source": [
    "def tranformasi_data(x_all,x_tr):\n",
    "    scaler = StandardScaler()\n",
    "    scaler.fit(x_all)\n",
    "    x_all_tr = scaler.transform(x_tr)\n",
    "    return x_all_tr\n",
    "\n",
    "x_all_tr = tranformasi_data(x_all, x_all)"
   ]
  },
  {
   "cell_type": "code",
   "execution_count": 183,
   "metadata": {},
   "outputs": [
    {
     "name": "stderr",
     "output_type": "stream",
     "text": [
      "/home/rama/.local/lib/python3.7/site-packages/sklearn/model_selection/_search.py:814: DeprecationWarning: The default of the `iid` parameter will change from True to False in version 0.22 and will be removed in 0.24. This will change numeric results when test-set sizes are unequal.\n",
      "  DeprecationWarning)\n"
     ]
    }
   ],
   "source": [
    "def model(x_all_tr, y_all):\n",
    "    gcs = GridSearchCV(SVR(kernel='rbf'),param_grid={'gamma': [5, 6, 7, 8, 9, 10]},cv=5,scoring='neg_mean_squared_error')\n",
    "    grid_result = gcs.fit(x_all_tr, y_all)\n",
    "    best_params = grid_result.best_params_\n",
    "    best_svr = SVR(kernel='rbf', C=1e3, gamma=best_params[\"gamma\"])\n",
    "    best_svr.fit(x_all_tr, y_all)\n",
    "    y_pred = best_svr.predict(x_all_tr)\n",
    "    return y_pred, best_svr\n",
    "\n",
    "y_pred, best_svr = model(x_all_tr, y_all)"
   ]
  },
  {
   "cell_type": "code",
   "execution_count": 184,
   "metadata": {},
   "outputs": [
    {
     "data": {
      "image/png": "[encoded data removed]",
      "text/plain": [
       "<Figure size 432x288 with 1 Axes>"
      ]
     },
     "metadata": {
      "needs_background": "light"
     },
     "output_type": "display_data"
    }
   ],
   "source": [
    "def plot(y_pred, data_all):\n",
    "    fig, ax = plt.subplots()\n",
    "    plt.plot(data_all.Date, data_all.Close)\n",
    "    monthyearFmt = mdates.DateFormatter('%Y-%m')\n",
    "    ax.xaxis.set_major_formatter(monthyearFmt)\n",
    "    _ = plt.xticks(rotation=90)\n",
    "#     ax.xaxis_date()\n",
    "    \n",
    "    plt.plot(data_all.Date, y_pred, c='r', label='RBF model')\n",
    "    plt.scatter(data_all.Date, data_all.Close, c='b', label='Data')\n",
    "    plt.xlabel('Date')\n",
    "    plt.ylabel('Price')\n",
    "    plt.title('Support Vector Regression')\n",
    "    plt.legend()\n",
    "    plt.show()\n",
    "plot(y_pred, data_all)"
   ]
  },
  {
   "cell_type": "code",
   "execution_count": 185,
   "metadata": {},
   "outputs": [
    {
     "name": "stdout",
     "output_type": "stream",
     "text": [
      "MSE: 0.595\n",
      "MAE: 0.352\n",
      "R^2: 1.000\n"
     ]
    }
   ],
   "source": [
    "from sklearn.metrics import mean_absolute_error, mean_squared_error, r2_score\n",
    "print('MSE: {0:.3f}'.format(mean_squared_error(y_all, y_pred)))\n",
    "print('MAE: {0:.3f}'.format(mean_absolute_error(y_all, y_pred)))\n",
    "print('R^2: {0:.3f}'.format(r2_score(y_all, y_pred)))"
   ]
  },
  {
   "cell_type": "code",
   "execution_count": 186,
   "metadata": {},
   "outputs": [
    {
     "data": {
      "text/plain": [
       "array([277.02175688])"
      ]
     },
     "execution_count": 186,
     "metadata": {},
     "output_type": "execute_result"
    }
   ],
   "source": [
    "prediksi_tanggal = '2020-01-06'\n",
    "y, m, d = prediksi_tanggal.split('-')\n",
    "c = [[y, m, d]]\n",
    "c_tr = tranformasi_data(x_all, c)\n",
    "best_svr.predict(c_tr)"
   ]
  },
  {
   "cell_type": "code",
   "execution_count": null,
   "metadata": {},
   "outputs": [],
   "source": []
  }
 ],
 "metadata": {
  "kernelspec": {
   "display_name": "Python 3",
   "language": "python",
   "name": "python3"
  },
  "language_info": {
   "codemirror_mode": {
    "name": "ipython",
    "version": 3
   },
   "file_extension": ".py",
   "mimetype": "text/x-python",
   "name": "python",
   "nbconvert_exporter": "python",
   "pygments_lexer": "ipython3",
   "version": "3.7.3"
  }
 },
 "nbformat": 4,
 "nbformat_minor": 2
}
