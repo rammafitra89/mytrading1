{
 "cells": [
  {
   "cell_type": "code",
   "execution_count": 51,
   "metadata": {},
   "outputs": [],
   "source": [
    "import matplotlib.pyplot as plt\n",
    "import matplotlib.dates as mdates\n",
    "import pandas as pd\n",
    "import pandas_datareader\n",
    "import datetime as dt\n",
    "from sklearn.preprocessing import StandardScaler\n",
    "from sklearn.model_selection import GridSearchCV\n",
    "from sklearn.svm import SVR"
   ]
  },
  {
   "cell_type": "code",
   "execution_count": 53,
   "metadata": {},
   "outputs": [],
   "source": [
    "def generate_data(index_saham,start,end):\n",
    "    data_all = pandas_datareader.data.DataReader(index_saham,'yahoo',start,end)\n",
    "    data_all.reset_index(inplace=True)\n",
    "    x_all = pd.DataFrame(data_all.Date.astype(str).str.split('-').tolist(),columns=\"year month date\".split())\n",
    "    y_all = data_all.Close\n",
    "    return x_all, y_all, data_all\n",
    "start_date = dt.datetime(2014, 8, 21)\n",
    "end_date = dt.datetime.now()\n",
    "x_all, y_all, data_all = generate_data('NFLX', start_date, end_date)\n"
   ]
  },
  {
   "cell_type": "code",
   "execution_count": 54,
   "metadata": {},
   "outputs": [
    {
     "data": {
      "text/html": [
       "<div>\n",
       "<style scoped>\n",
       "    .dataframe tbody tr th:only-of-type {\n",
       "        vertical-align: middle;\n",
       "    }\n",
       "\n",
       "    .dataframe tbody tr th {\n",
       "        vertical-align: top;\n",
       "    }\n",
       "\n",
       "    .dataframe thead th {\n",
       "        text-align: right;\n",
       "    }\n",
       "</style>\n",
       "<table border=\"1\" class=\"dataframe\">\n",
       "  <thead>\n",
       "    <tr style=\"text-align: right;\">\n",
       "      <th></th>\n",
       "      <th>Date</th>\n",
       "      <th>High</th>\n",
       "      <th>Low</th>\n",
       "      <th>Open</th>\n",
       "      <th>Close</th>\n",
       "      <th>Volume</th>\n",
       "      <th>Adj Close</th>\n",
       "    </tr>\n",
       "  </thead>\n",
       "  <tbody>\n",
       "    <tr>\n",
       "      <td>0</td>\n",
       "      <td>2014-08-20</td>\n",
       "      <td>67.678574</td>\n",
       "      <td>66.362854</td>\n",
       "      <td>66.714287</td>\n",
       "      <td>67.455711</td>\n",
       "      <td>12163900.0</td>\n",
       "      <td>67.455711</td>\n",
       "    </tr>\n",
       "    <tr>\n",
       "      <td>1</td>\n",
       "      <td>2014-08-21</td>\n",
       "      <td>68.021431</td>\n",
       "      <td>66.809998</td>\n",
       "      <td>67.325714</td>\n",
       "      <td>67.435715</td>\n",
       "      <td>11746700.0</td>\n",
       "      <td>67.435715</td>\n",
       "    </tr>\n",
       "    <tr>\n",
       "      <td>2</td>\n",
       "      <td>2014-08-22</td>\n",
       "      <td>68.507141</td>\n",
       "      <td>67.150002</td>\n",
       "      <td>67.277145</td>\n",
       "      <td>68.455711</td>\n",
       "      <td>13735400.0</td>\n",
       "      <td>68.455711</td>\n",
       "    </tr>\n",
       "    <tr>\n",
       "      <td>3</td>\n",
       "      <td>2014-08-25</td>\n",
       "      <td>69.328575</td>\n",
       "      <td>68.218575</td>\n",
       "      <td>68.792854</td>\n",
       "      <td>68.704285</td>\n",
       "      <td>13484800.0</td>\n",
       "      <td>68.704285</td>\n",
       "    </tr>\n",
       "    <tr>\n",
       "      <td>4</td>\n",
       "      <td>2014-08-26</td>\n",
       "      <td>68.835716</td>\n",
       "      <td>67.792854</td>\n",
       "      <td>68.357140</td>\n",
       "      <td>68.480003</td>\n",
       "      <td>10137400.0</td>\n",
       "      <td>68.480003</td>\n",
       "    </tr>\n",
       "    <tr>\n",
       "      <td>...</td>\n",
       "      <td>...</td>\n",
       "      <td>...</td>\n",
       "      <td>...</td>\n",
       "      <td>...</td>\n",
       "      <td>...</td>\n",
       "      <td>...</td>\n",
       "      <td>...</td>\n",
       "    </tr>\n",
       "    <tr>\n",
       "      <td>1348</td>\n",
       "      <td>2019-12-27</td>\n",
       "      <td>333.820007</td>\n",
       "      <td>326.010010</td>\n",
       "      <td>332.959991</td>\n",
       "      <td>329.089996</td>\n",
       "      <td>5036100.0</td>\n",
       "      <td>329.089996</td>\n",
       "    </tr>\n",
       "    <tr>\n",
       "      <td>1349</td>\n",
       "      <td>2019-12-30</td>\n",
       "      <td>329.190002</td>\n",
       "      <td>322.859985</td>\n",
       "      <td>329.079987</td>\n",
       "      <td>323.309998</td>\n",
       "      <td>4311500.0</td>\n",
       "      <td>323.309998</td>\n",
       "    </tr>\n",
       "    <tr>\n",
       "      <td>1350</td>\n",
       "      <td>2019-12-31</td>\n",
       "      <td>324.920013</td>\n",
       "      <td>321.089996</td>\n",
       "      <td>322.000000</td>\n",
       "      <td>323.570007</td>\n",
       "      <td>3713300.0</td>\n",
       "      <td>323.570007</td>\n",
       "    </tr>\n",
       "    <tr>\n",
       "      <td>1351</td>\n",
       "      <td>2020-01-02</td>\n",
       "      <td>329.980011</td>\n",
       "      <td>324.779999</td>\n",
       "      <td>326.100006</td>\n",
       "      <td>329.809998</td>\n",
       "      <td>4485800.0</td>\n",
       "      <td>329.809998</td>\n",
       "    </tr>\n",
       "    <tr>\n",
       "      <td>1352</td>\n",
       "      <td>2020-01-03</td>\n",
       "      <td>329.859985</td>\n",
       "      <td>325.529999</td>\n",
       "      <td>326.779999</td>\n",
       "      <td>325.899994</td>\n",
       "      <td>3806900.0</td>\n",
       "      <td>325.899994</td>\n",
       "    </tr>\n",
       "  </tbody>\n",
       "</table>\n",
       "<p>1353 rows × 7 columns</p>\n",
       "</div>"
      ],
      "text/plain": [
       "           Date        High         Low        Open       Close      Volume  \\\n",
       "0    2014-08-20   67.678574   66.362854   66.714287   67.455711  12163900.0   \n",
       "1    2014-08-21   68.021431   66.809998   67.325714   67.435715  11746700.0   \n",
       "2    2014-08-22   68.507141   67.150002   67.277145   68.455711  13735400.0   \n",
       "3    2014-08-25   69.328575   68.218575   68.792854   68.704285  13484800.0   \n",
       "4    2014-08-26   68.835716   67.792854   68.357140   68.480003  10137400.0   \n",
       "...         ...         ...         ...         ...         ...         ...   \n",
       "1348 2019-12-27  333.820007  326.010010  332.959991  329.089996   5036100.0   \n",
       "1349 2019-12-30  329.190002  322.859985  329.079987  323.309998   4311500.0   \n",
       "1350 2019-12-31  324.920013  321.089996  322.000000  323.570007   3713300.0   \n",
       "1351 2020-01-02  329.980011  324.779999  326.100006  329.809998   4485800.0   \n",
       "1352 2020-01-03  329.859985  325.529999  326.779999  325.899994   3806900.0   \n",
       "\n",
       "       Adj Close  \n",
       "0      67.455711  \n",
       "1      67.435715  \n",
       "2      68.455711  \n",
       "3      68.704285  \n",
       "4      68.480003  \n",
       "...          ...  \n",
       "1348  329.089996  \n",
       "1349  323.309998  \n",
       "1350  323.570007  \n",
       "1351  329.809998  \n",
       "1352  325.899994  \n",
       "\n",
       "[1353 rows x 7 columns]"
      ]
     },
     "execution_count": 54,
     "metadata": {},
     "output_type": "execute_result"
    }
   ],
   "source": [
    "data_all"
   ]
  },
  {
   "cell_type": "code",
   "execution_count": 55,
   "metadata": {},
   "outputs": [
    {
     "data": {
      "text/html": [
       "<div>\n",
       "<style scoped>\n",
       "    .dataframe tbody tr th:only-of-type {\n",
       "        vertical-align: middle;\n",
       "    }\n",
       "\n",
       "    .dataframe tbody tr th {\n",
       "        vertical-align: top;\n",
       "    }\n",
       "\n",
       "    .dataframe thead th {\n",
       "        text-align: right;\n",
       "    }\n",
       "</style>\n",
       "<table border=\"1\" class=\"dataframe\">\n",
       "  <thead>\n",
       "    <tr style=\"text-align: right;\">\n",
       "      <th></th>\n",
       "      <th>year</th>\n",
       "      <th>month</th>\n",
       "      <th>date</th>\n",
       "    </tr>\n",
       "  </thead>\n",
       "  <tbody>\n",
       "    <tr>\n",
       "      <td>0</td>\n",
       "      <td>2014</td>\n",
       "      <td>08</td>\n",
       "      <td>20</td>\n",
       "    </tr>\n",
       "    <tr>\n",
       "      <td>1</td>\n",
       "      <td>2014</td>\n",
       "      <td>08</td>\n",
       "      <td>21</td>\n",
       "    </tr>\n",
       "    <tr>\n",
       "      <td>2</td>\n",
       "      <td>2014</td>\n",
       "      <td>08</td>\n",
       "      <td>22</td>\n",
       "    </tr>\n",
       "    <tr>\n",
       "      <td>3</td>\n",
       "      <td>2014</td>\n",
       "      <td>08</td>\n",
       "      <td>25</td>\n",
       "    </tr>\n",
       "    <tr>\n",
       "      <td>4</td>\n",
       "      <td>2014</td>\n",
       "      <td>08</td>\n",
       "      <td>26</td>\n",
       "    </tr>\n",
       "    <tr>\n",
       "      <td>...</td>\n",
       "      <td>...</td>\n",
       "      <td>...</td>\n",
       "      <td>...</td>\n",
       "    </tr>\n",
       "    <tr>\n",
       "      <td>1348</td>\n",
       "      <td>2019</td>\n",
       "      <td>12</td>\n",
       "      <td>27</td>\n",
       "    </tr>\n",
       "    <tr>\n",
       "      <td>1349</td>\n",
       "      <td>2019</td>\n",
       "      <td>12</td>\n",
       "      <td>30</td>\n",
       "    </tr>\n",
       "    <tr>\n",
       "      <td>1350</td>\n",
       "      <td>2019</td>\n",
       "      <td>12</td>\n",
       "      <td>31</td>\n",
       "    </tr>\n",
       "    <tr>\n",
       "      <td>1351</td>\n",
       "      <td>2020</td>\n",
       "      <td>01</td>\n",
       "      <td>02</td>\n",
       "    </tr>\n",
       "    <tr>\n",
       "      <td>1352</td>\n",
       "      <td>2020</td>\n",
       "      <td>01</td>\n",
       "      <td>03</td>\n",
       "    </tr>\n",
       "  </tbody>\n",
       "</table>\n",
       "<p>1353 rows × 3 columns</p>\n",
       "</div>"
      ],
      "text/plain": [
       "      year month date\n",
       "0     2014    08   20\n",
       "1     2014    08   21\n",
       "2     2014    08   22\n",
       "3     2014    08   25\n",
       "4     2014    08   26\n",
       "...    ...   ...  ...\n",
       "1348  2019    12   27\n",
       "1349  2019    12   30\n",
       "1350  2019    12   31\n",
       "1351  2020    01   02\n",
       "1352  2020    01   03\n",
       "\n",
       "[1353 rows x 3 columns]"
      ]
     },
     "execution_count": 55,
     "metadata": {},
     "output_type": "execute_result"
    }
   ],
   "source": [
    "x_all"
   ]
  },
  {
   "cell_type": "code",
   "execution_count": 56,
   "metadata": {},
   "outputs": [],
   "source": [
    "def tranformasi_data(x_all,x_tr):\n",
    "    scaler = StandardScaler()\n",
    "    scaler.fit(x_all)\n",
    "    x_all_tr = scaler.transform(x_tr)\n",
    "    return x_all_tr\n",
    "\n",
    "x_all_tr = tranformasi_data(x_all, x_all)"
   ]
  },
  {
   "cell_type": "code",
   "execution_count": 57,
   "metadata": {},
   "outputs": [
    {
     "data": {
      "text/plain": [
       "array([[-1.78626268,  0.35046643,  0.48340706],\n",
       "       [-1.78626268,  0.35046643,  0.59757179],\n",
       "       [-1.78626268,  0.35046643,  0.71173652],\n",
       "       ...,\n",
       "       [ 1.40635741,  1.50841777,  1.73921911],\n",
       "       [ 2.04488143, -1.67594843, -1.57155812],\n",
       "       [ 2.04488143, -1.67594843, -1.45739339]])"
      ]
     },
     "execution_count": 57,
     "metadata": {},
     "output_type": "execute_result"
    }
   ],
   "source": [
    "x_all_tr"
   ]
  },
  {
   "cell_type": "code",
   "execution_count": 58,
   "metadata": {},
   "outputs": [
    {
     "name": "stderr",
     "output_type": "stream",
     "text": [
      "/home/rama/.local/lib/python3.7/site-packages/sklearn/model_selection/_search.py:814: DeprecationWarning: The default of the `iid` parameter will change from True to False in version 0.22 and will be removed in 0.24. This will change numeric results when test-set sizes are unequal.\n",
      "  DeprecationWarning)\n"
     ]
    }
   ],
   "source": [
    "def model(x_all_tr, y_all):\n",
    "    gcs = GridSearchCV(SVR(kernel='rbf'),param_grid={'gamma': [5, 6, 7, 8, 9, 10]},cv=5,scoring='neg_mean_squared_error')\n",
    "    grid_result = gcs.fit(x_all_tr, y_all)\n",
    "    best_params = grid_result.best_params_\n",
    "    best_svr = SVR(kernel='rbf', C=1e3, gamma=best_params[\"gamma\"])\n",
    "    best_svr.fit(x_all_tr, y_all)\n",
    "    y_pred = best_svr.predict(x_all_tr)\n",
    "    return y_pred, best_svr\n",
    "\n",
    "y_pred, best_svr = model(x_all_tr, y_all)"
   ]
  },
  {
   "cell_type": "code",
   "execution_count": 59,
   "metadata": {},
   "outputs": [
    {
     "data": {
      "image/png": "[encoded data removed]",
      "text/plain": [
       "<Figure size 432x288 with 1 Axes>"
      ]
     },
     "metadata": {
      "needs_background": "light"
     },
     "output_type": "display_data"
    }
   ],
   "source": [
    "def plot(y_pred, data_all):\n",
    "    fig, ax1 = plt.subplots()\n",
    "    plt.plot(data_all.Date, data_all.Close)\n",
    "    monthyearFmt = mdates.DateFormatter('%Y-%m')\n",
    "    ax1.xaxis.set_major_formatter(monthyearFmt)\n",
    "    _ = plt.xticks(rotation=90)\n",
    "    \n",
    "    plt.plot(data_all.Date, y_pred, c='r', label='RBF model')\n",
    "    plt.scatter(data_all.Date, data_all.Close, c='b', label='Data')\n",
    "    plt.xlabel('Date')\n",
    "    plt.ylabel('Price')\n",
    "    plt.title('Support Vector Regression')\n",
    "    plt.legend()\n",
    "    plt.show()\n",
    "plot(y_pred, data_all)"
   ]
  },
  {
   "cell_type": "code",
   "execution_count": 60,
   "metadata": {},
   "outputs": [
    {
     "name": "stdout",
     "output_type": "stream",
     "text": [
      "MSE: 5.674\n",
      "MAE: 0.936\n",
      "R^2: 1.000\n"
     ]
    }
   ],
   "source": [
    "from sklearn.metrics import mean_absolute_error, mean_squared_error, r2_score\n",
    "print('MSE: {0:.3f}'.format(mean_squared_error(y_all, y_pred)))\n",
    "print('MAE: {0:.3f}'.format(mean_absolute_error(y_all, y_pred)))\n",
    "print('R^2: {0:.3f}'.format(r2_score(y_all, y_pred)))"
   ]
  },
  {
   "cell_type": "code",
   "execution_count": 61,
   "metadata": {},
   "outputs": [
    {
     "data": {
      "text/plain": [
       "array([308.00838402])"
      ]
     },
     "execution_count": 61,
     "metadata": {},
     "output_type": "execute_result"
    }
   ],
   "source": [
    "prediksi_tanggal = '2020-01-04'\n",
    "y, m, d = prediksi_tanggal.split('-')\n",
    "c = [[y, m, d]]\n",
    "c_tr = tranformasi_data(x_all, c)\n",
    "best_svr.predict(c_tr)"
   ]
  },
  {
   "cell_type": "code",
   "execution_count": null,
   "metadata": {},
   "outputs": [],
   "source": []
  }
 ],
 "metadata": {
  "kernelspec": {
   "display_name": "Python 3",
   "language": "python",
   "name": "python3"
  },
  "language_info": {
   "codemirror_mode": {
    "name": "ipython",
    "version": 3
   },
   "file_extension": ".py",
   "mimetype": "text/x-python",
   "name": "python",
   "nbconvert_exporter": "python",
   "pygments_lexer": "ipython3",
   "version": "3.7.3"
  }
 },
 "nbformat": 4,
 "nbformat_minor": 2
}
